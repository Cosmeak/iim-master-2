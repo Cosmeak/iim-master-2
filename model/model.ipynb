{
 "cells": [
  {
   "cell_type": "code",
   "execution_count": 3,
   "metadata": {},
   "outputs": [
    {
     "name": "stdout",
     "output_type": "stream",
     "text": [
      "Requirement already satisfied: torch in ./.venv/lib/python3.10/site-packages (from -r requirements.txt (line 1)) (2.5.1)\n",
      "Requirement already satisfied: torchvision in ./.venv/lib/python3.10/site-packages (from -r requirements.txt (line 2)) (0.20.1)\n",
      "Requirement already satisfied: onnx in ./.venv/lib/python3.10/site-packages (from -r requirements.txt (line 3)) (1.17.0)\n",
      "Requirement already satisfied: lightning in ./.venv/lib/python3.10/site-packages (from -r requirements.txt (line 4)) (2.4.0)\n",
      "Requirement already satisfied: tensorboard in ./.venv/lib/python3.10/site-packages (from -r requirements.txt (line 5)) (2.18.0)\n",
      "Requirement already satisfied: torchmetrics in ./.venv/lib/python3.10/site-packages (from -r requirements.txt (line 6)) (1.6.0)\n",
      "Requirement already satisfied: matplotlib in ./.venv/lib/python3.10/site-packages (from -r requirements.txt (line 7)) (3.9.2)\n",
      "Requirement already satisfied: nump in ./.venv/lib/python3.10/site-packages (from -r requirements.txt (line 8)) (5.5.5.5)\n",
      "Requirement already satisfied: jinja2 in ./.venv/lib/python3.10/site-packages (from torch->-r requirements.txt (line 1)) (3.1.4)\n",
      "Requirement already satisfied: fsspec in ./.venv/lib/python3.10/site-packages (from torch->-r requirements.txt (line 1)) (2024.10.0)\n",
      "Requirement already satisfied: filelock in ./.venv/lib/python3.10/site-packages (from torch->-r requirements.txt (line 1)) (3.16.1)\n",
      "Requirement already satisfied: sympy==1.13.1 in ./.venv/lib/python3.10/site-packages (from torch->-r requirements.txt (line 1)) (1.13.1)\n",
      "Requirement already satisfied: networkx in ./.venv/lib/python3.10/site-packages (from torch->-r requirements.txt (line 1)) (3.4.2)\n",
      "Requirement already satisfied: typing-extensions>=4.8.0 in ./.venv/lib/python3.10/site-packages (from torch->-r requirements.txt (line 1)) (4.12.2)\n",
      "Requirement already satisfied: mpmath<1.4,>=1.1.0 in ./.venv/lib/python3.10/site-packages (from sympy==1.13.1->torch->-r requirements.txt (line 1)) (1.3.0)\n",
      "Requirement already satisfied: pillow!=8.3.*,>=5.3.0 in ./.venv/lib/python3.10/site-packages (from torchvision->-r requirements.txt (line 2)) (11.0.0)\n",
      "Requirement already satisfied: numpy in ./.venv/lib/python3.10/site-packages (from torchvision->-r requirements.txt (line 2)) (2.1.3)\n",
      "Requirement already satisfied: protobuf>=3.20.2 in ./.venv/lib/python3.10/site-packages (from onnx->-r requirements.txt (line 3)) (5.28.3)\n",
      "Requirement already satisfied: pytorch-lightning in ./.venv/lib/python3.10/site-packages (from lightning->-r requirements.txt (line 4)) (2.4.0)\n",
      "Requirement already satisfied: lightning-utilities<2.0,>=0.10.0 in ./.venv/lib/python3.10/site-packages (from lightning->-r requirements.txt (line 4)) (0.11.9)\n",
      "Requirement already satisfied: packaging<25.0,>=20.0 in ./.venv/lib/python3.10/site-packages (from lightning->-r requirements.txt (line 4)) (24.2)\n",
      "Requirement already satisfied: tqdm<6.0,>=4.57.0 in ./.venv/lib/python3.10/site-packages (from lightning->-r requirements.txt (line 4)) (4.67.0)\n",
      "Requirement already satisfied: PyYAML<8.0,>=5.4 in ./.venv/lib/python3.10/site-packages (from lightning->-r requirements.txt (line 4)) (6.0.2)\n",
      "Requirement already satisfied: absl-py>=0.4 in ./.venv/lib/python3.10/site-packages (from tensorboard->-r requirements.txt (line 5)) (2.1.0)\n",
      "Requirement already satisfied: werkzeug>=1.0.1 in ./.venv/lib/python3.10/site-packages (from tensorboard->-r requirements.txt (line 5)) (3.1.3)\n",
      "Requirement already satisfied: grpcio>=1.48.2 in ./.venv/lib/python3.10/site-packages (from tensorboard->-r requirements.txt (line 5)) (1.68.0)\n",
      "Requirement already satisfied: markdown>=2.6.8 in ./.venv/lib/python3.10/site-packages (from tensorboard->-r requirements.txt (line 5)) (3.7)\n",
      "Requirement already satisfied: tensorboard-data-server<0.8.0,>=0.7.0 in ./.venv/lib/python3.10/site-packages (from tensorboard->-r requirements.txt (line 5)) (0.7.2)\n",
      "Requirement already satisfied: setuptools>=41.0.0 in ./.venv/lib/python3.10/site-packages (from tensorboard->-r requirements.txt (line 5)) (65.5.0)\n",
      "Requirement already satisfied: six>1.9 in ./.venv/lib/python3.10/site-packages (from tensorboard->-r requirements.txt (line 5)) (1.16.0)\n",
      "Requirement already satisfied: contourpy>=1.0.1 in ./.venv/lib/python3.10/site-packages (from matplotlib->-r requirements.txt (line 7)) (1.3.1)\n",
      "Requirement already satisfied: fonttools>=4.22.0 in ./.venv/lib/python3.10/site-packages (from matplotlib->-r requirements.txt (line 7)) (4.55.0)\n",
      "Requirement already satisfied: pyparsing>=2.3.1 in ./.venv/lib/python3.10/site-packages (from matplotlib->-r requirements.txt (line 7)) (3.2.0)\n",
      "Requirement already satisfied: kiwisolver>=1.3.1 in ./.venv/lib/python3.10/site-packages (from matplotlib->-r requirements.txt (line 7)) (1.4.7)\n",
      "Requirement already satisfied: python-dateutil>=2.7 in ./.venv/lib/python3.10/site-packages (from matplotlib->-r requirements.txt (line 7)) (2.9.0.post0)\n",
      "Requirement already satisfied: cycler>=0.10 in ./.venv/lib/python3.10/site-packages (from matplotlib->-r requirements.txt (line 7)) (0.12.1)\n",
      "Requirement already satisfied: aiohttp!=4.0.0a0,!=4.0.0a1 in ./.venv/lib/python3.10/site-packages (from fsspec->torch->-r requirements.txt (line 1)) (3.11.6)\n",
      "Requirement already satisfied: MarkupSafe>=2.1.1 in ./.venv/lib/python3.10/site-packages (from werkzeug>=1.0.1->tensorboard->-r requirements.txt (line 5)) (3.0.2)\n",
      "Requirement already satisfied: multidict<7.0,>=4.5 in ./.venv/lib/python3.10/site-packages (from aiohttp!=4.0.0a0,!=4.0.0a1->fsspec->torch->-r requirements.txt (line 1)) (6.1.0)\n",
      "Requirement already satisfied: aiohappyeyeballs>=2.3.0 in ./.venv/lib/python3.10/site-packages (from aiohttp!=4.0.0a0,!=4.0.0a1->fsspec->torch->-r requirements.txt (line 1)) (2.4.3)\n",
      "Requirement already satisfied: async-timeout<6.0,>=4.0 in ./.venv/lib/python3.10/site-packages (from aiohttp!=4.0.0a0,!=4.0.0a1->fsspec->torch->-r requirements.txt (line 1)) (5.0.1)\n",
      "Requirement already satisfied: attrs>=17.3.0 in ./.venv/lib/python3.10/site-packages (from aiohttp!=4.0.0a0,!=4.0.0a1->fsspec->torch->-r requirements.txt (line 1)) (24.2.0)\n",
      "Requirement already satisfied: yarl<2.0,>=1.17.0 in ./.venv/lib/python3.10/site-packages (from aiohttp!=4.0.0a0,!=4.0.0a1->fsspec->torch->-r requirements.txt (line 1)) (1.17.2)\n",
      "Requirement already satisfied: aiosignal>=1.1.2 in ./.venv/lib/python3.10/site-packages (from aiohttp!=4.0.0a0,!=4.0.0a1->fsspec->torch->-r requirements.txt (line 1)) (1.3.1)\n",
      "Requirement already satisfied: propcache>=0.2.0 in ./.venv/lib/python3.10/site-packages (from aiohttp!=4.0.0a0,!=4.0.0a1->fsspec->torch->-r requirements.txt (line 1)) (0.2.0)\n",
      "Requirement already satisfied: frozenlist>=1.1.1 in ./.venv/lib/python3.10/site-packages (from aiohttp!=4.0.0a0,!=4.0.0a1->fsspec->torch->-r requirements.txt (line 1)) (1.5.0)\n",
      "Requirement already satisfied: idna>=2.0 in ./.venv/lib/python3.10/site-packages (from yarl<2.0,>=1.17.0->aiohttp!=4.0.0a0,!=4.0.0a1->fsspec->torch->-r requirements.txt (line 1)) (3.10)\n",
      "\n",
      "\u001b[1m[\u001b[0m\u001b[34;49mnotice\u001b[0m\u001b[1;39;49m]\u001b[0m\u001b[39;49m A new release of pip is available: \u001b[0m\u001b[31;49m23.0.1\u001b[0m\u001b[39;49m -> \u001b[0m\u001b[32;49m24.3.1\u001b[0m\n",
      "\u001b[1m[\u001b[0m\u001b[34;49mnotice\u001b[0m\u001b[1;39;49m]\u001b[0m\u001b[39;49m To update, run: \u001b[0m\u001b[32;49mpip install --upgrade pip\u001b[0m\n"
     ]
    }
   ],
   "source": [
    "!pip install -r requirements.txt"
   ]
  },
  {
   "cell_type": "code",
   "execution_count": 4,
   "metadata": {},
   "outputs": [],
   "source": [
    "import torch\n",
    "import torch.nn as nn\n",
    "import pytorch_lightning as pl\n",
    "from torchmetrics.classification import Accuracy\n",
    "import torch.optim as optim\n",
    "from torchvision import datasets\n",
    "from torchvision.transforms import ToTensor\n",
    "import torch.utils.data as data\n",
    "\n",
    "class VGGLightning(pl.LightningModule):\n",
    "    def __init__(self, train_set, valid_set, batch_size=128, num_classes=10):\n",
    "        super(VGGLightning, self).__init__()\n",
    "        \n",
    "        # Define VGG architecture for 28x28 MNIST images (grayscale)\n",
    "        self.features = nn.Sequential(\n",
    "            # First block: Conv -> Conv -> MaxPool\n",
    "            nn.Conv2d(1, 64, kernel_size=3, padding=1),  # 1 input channel (grayscale), 64 output channels\n",
    "            nn.ReLU(inplace=True),\n",
    "            nn.Conv2d(64, 64, kernel_size=3, padding=1),\n",
    "            nn.ReLU(inplace=True),\n",
    "            nn.MaxPool2d(kernel_size=2, stride=2),  # Output size: 64x14x14\n",
    "\n",
    "            # Second block: Conv -> Conv -> MaxPool\n",
    "            nn.Conv2d(64, 128, kernel_size=3, padding=1),  # 64 input channels, 128 output channels\n",
    "            nn.ReLU(inplace=True),\n",
    "            nn.Conv2d(128, 128, kernel_size=3, padding=1),\n",
    "            nn.ReLU(inplace=True),\n",
    "            nn.MaxPool2d(kernel_size=2, stride=2),  # Output size: 128x7x7\n",
    "\n",
    "            # Third block: Conv -> Conv -> Conv -> MaxPool\n",
    "            nn.Conv2d(128, 256, kernel_size=3, padding=1),  # 128 input channels, 256 output channels\n",
    "            nn.ReLU(inplace=True),\n",
    "            nn.Conv2d(256, 256, kernel_size=3, padding=1),\n",
    "            nn.ReLU(inplace=True),\n",
    "            nn.Conv2d(256, 256, kernel_size=3, padding=1),\n",
    "            nn.ReLU(inplace=True),\n",
    "            nn.MaxPool2d(kernel_size=2, stride=2),  # Output size: 256x3x3\n",
    "\n",
    "            # Fourth block: Conv -> Conv -> Conv -> MaxPool\n",
    "            nn.Conv2d(256, 512, kernel_size=3, padding=1),  # 256 input channels, 512 output channels\n",
    "            nn.ReLU(inplace=True),\n",
    "            nn.Conv2d(512, 512, kernel_size=3, padding=1),\n",
    "            nn.ReLU(inplace=True),\n",
    "            nn.Conv2d(512, 512, kernel_size=3, padding=1),\n",
    "            nn.ReLU(inplace=True),\n",
    "            nn.MaxPool2d(kernel_size=2, stride=2)  # Output size: 512x1x1\n",
    "        )\n",
    "        \n",
    "        # Fully connected layers\n",
    "        self.classifier = nn.Sequential(\n",
    "            nn.Linear(512 * 1 * 1, 4096),  # Adjusted to 512 * 1 * 1 based on input size\n",
    "            nn.ReLU(inplace=True),\n",
    "            nn.Dropout(0.5),\n",
    "            nn.Linear(4096, 4096),\n",
    "            nn.ReLU(inplace=True),\n",
    "            nn.Dropout(0.5),\n",
    "            nn.Linear(4096, num_classes)  # Output 10 classes for MNIST digits\n",
    "        )\n",
    "\n",
    "        # Metric for accuracy\n",
    "        self.accuracy = Accuracy(task=\"multiclass\", num_classes=num_classes)\n",
    "\n",
    "        # Define batch_size\n",
    "        self.batch_size = batch_size\n",
    "\n",
    "        # Define datasets\n",
    "        self.train_set = train_set\n",
    "        self.valid_set = valid_set\n",
    "\n",
    "    def forward(self, x):\n",
    "        x = self.features(x)\n",
    "        x = x.view(x.size(0), -1)  # Flatten the output from convolutional layers\n",
    "        x = self.classifier(x)\n",
    "        return x\n",
    "\n",
    "    def train_dataloader(self):\n",
    "        return DataLoader(self.train_set, batch_size=self.batch_size, num_workers=11, persistent_workers=True)\n",
    "\n",
    "    def training_step(self, batch, batch_idx):\n",
    "        # Extract input images and labels\n",
    "        images, labels = batch\n",
    "        \n",
    "        # Forward pass\n",
    "        outputs = self(images)\n",
    "        \n",
    "        # Calculate loss (cross-entropy loss)\n",
    "        loss = nn.CrossEntropyLoss()(outputs, labels)\n",
    "        \n",
    "        # Log training loss\n",
    "        self.log('train_loss', loss, on_epoch=True)\n",
    "        \n",
    "        return loss\n",
    "\n",
    "    def val_dataloader(self):\n",
    "        return DataLoader(self.valid_set, batch_size=self.batch_size, num_workers=11, persistent_workers=True)\n",
    "\n",
    "    def validation_step(self, batch, batch_idx):\n",
    "        images, labels = batch\n",
    "        outputs = self(images)\n",
    "        \n",
    "        # Calculate loss\n",
    "        loss = nn.CrossEntropyLoss()(outputs, labels)\n",
    "        \n",
    "        # Calculate accuracy\n",
    "        acc = self.accuracy(outputs, labels)\n",
    "        \n",
    "        self.log('val_loss', loss, on_epoch=True)\n",
    "        self.log('val_acc', acc, on_epoch=True)\n",
    "        \n",
    "        return loss\n",
    "\n",
    "    def test_step(self, batch, batch_idx):\n",
    "        images, labels = batch\n",
    "        outputs = self(images)\n",
    "        \n",
    "        # Calculate loss\n",
    "        loss = nn.CrossEntropyLoss()(outputs, labels)\n",
    "        \n",
    "        # Calculate accuracy\n",
    "        acc = self.accuracy(outputs, labels)\n",
    "        \n",
    "        self.log('test_loss', loss, on_epoch=True)\n",
    "        self.log('test_acc', acc, on_epoch=True)\n",
    "        \n",
    "        return loss\n",
    "\n",
    "    def configure_optimizers(self):\n",
    "        optimizer = optim.AdamW(self.parameters(), lr=0.001)\n",
    "        scheduler = {\n",
    "            'scheduler': torch.optim.lr_scheduler.StepLR(optimizer, step_size=7, gamma=0.1),\n",
    "            'monitor': 'val_loss'\n",
    "        }\n",
    "        \n",
    "        return [optimizer], [scheduler]\n",
    "\n",
    "    def predict_step(self, batch, batch_idx, dataloader_idx=0):\n",
    "        images, labels = batch \n",
    "        outputs = self(images)\n",
    "        # Get the predicted class with the highest prob\n",
    "        _, predicted = torch.max(outputs, 1) \n",
    "        return images, labels, predicted"
   ]
  },
  {
   "cell_type": "code",
   "execution_count": 5,
   "metadata": {},
   "outputs": [
    {
     "name": "stderr",
     "output_type": "stream",
     "text": [
      "GPU available: True (mps), used: True\n",
      "TPU available: False, using: 0 TPU cores\n",
      "HPU available: False, using: 0 HPUs\n",
      "\n",
      "  | Name       | Type               | Params | Mode \n",
      "----------------------------------------------------------\n",
      "0 | features   | Sequential         | 7.6 M  | train\n",
      "1 | classifier | Sequential         | 18.9 M | train\n",
      "2 | accuracy   | MulticlassAccuracy | 0      | train\n",
      "----------------------------------------------------------\n",
      "26.6 M    Trainable params\n",
      "0         Non-trainable params\n",
      "26.6 M    Total params\n",
      "106.231   Total estimated model params size (MB)\n",
      "34        Modules in train mode\n",
      "0         Modules in eval mode\n"
     ]
    },
    {
     "name": "stdout",
     "output_type": "stream",
     "text": [
      "Epoch 11: 100%|██████████| 375/375 [00:31<00:00, 12.07it/s, v_num=8]       \n",
      "Testing DataLoader 0: 100%|██████████| 10000/10000 [00:52<00:00, 189.07it/s]\n",
      "────────────────────────────────────────────────────────────────────────────────────────────────────────────────────────\n",
      "       Test metric             DataLoader 0\n",
      "────────────────────────────────────────────────────────────────────────────────────────────────────────────────────────\n",
      "        test_acc            0.9918000102043152\n",
      "        test_loss           0.02921738289296627\n",
      "────────────────────────────────────────────────────────────────────────────────────────────────────────────────────────\n"
     ]
    },
    {
     "data": {
      "text/plain": [
       "[{'test_loss': 0.02921738289296627, 'test_acc': 0.9918000102043152}]"
      ]
     },
     "execution_count": 5,
     "metadata": {},
     "output_type": "execute_result"
    }
   ],
   "source": [
    "from torch.utils.data import DataLoader\n",
    "\n",
    "# Define datasets\n",
    "training_set = datasets.MNIST(root=\"data\", train=True, download=True, transform=ToTensor())\n",
    "# use 20% of training data for validation\n",
    "train_set_size = int(len(training_set) * 0.8)\n",
    "valid_set_size = len(training_set) - train_set_size\n",
    "# split the train set into two\n",
    "seed = torch.Generator().manual_seed(42)\n",
    "train_set, valid_set = data.random_split(training_set, [train_set_size, valid_set_size], generator=seed)\n",
    "\n",
    "# Initialize model \n",
    "model = VGGLightning(train_set, valid_set)\n",
    "\n",
    "# Create a Trainer object\n",
    "trainer = pl.Trainer(default_root_dir=\"checkpoints/\", callbacks=[pl.callbacks.EarlyStopping(monitor=\"val_loss\", mode=\"min\")], max_epochs=-1)\n",
    "\n",
    "# Tune batch scale\n",
    "# tuner = pl.tuner.Tuner(trainer)\n",
    "# tuner.scale_batch_size(model)\n",
    "\n",
    "# Train the model\n",
    "trainer.fit(model)\n",
    "\n",
    "# Validate training\n",
    "test_set = datasets.MNIST(root=\"data\", train=False, download=True, transform=ToTensor())\n",
    "test_dataloader = DataLoader(test_set, num_workers=11, persistent_workers=True)\n",
    "trainer.test(model, test_dataloader)"
   ]
  },
  {
   "cell_type": "code",
   "execution_count": 6,
   "metadata": {},
   "outputs": [
    {
     "name": "stdout",
     "output_type": "stream",
     "text": [
      "Predicting DataLoader 0: 100%|██████████| 10000/10000 [00:46<00:00, 214.18it/s]\n"
     ]
    }
   ],
   "source": [
    "# Make predictions\n",
    "predictions = trainer.predict(model, test_dataloader)"
   ]
  },
  {
   "cell_type": "code",
   "execution_count": 7,
   "metadata": {},
   "outputs": [
    {
     "data": {
      "image/png": "[encoded data removed]",
      "text/plain": [
       "<Figure size 500x500 with 1 Axes>"
      ]
     },
     "metadata": {},
     "output_type": "display_data"
    },
    {
     "data": {
      "image/png": "[encoded data removed]",
      "text/plain": [
       "<Figure size 500x500 with 1 Axes>"
      ]
     },
     "metadata": {},
     "output_type": "display_data"
    },
    {
     "data": {
      "image/png": "[encoded data removed]",
      "text/plain": [
       "<Figure size 500x500 with 1 Axes>"
      ]
     },
     "metadata": {},
     "output_type": "display_data"
    },
    {
     "data": {
      "image/png": "[encoded data removed]",
      "text/plain": [
       "<Figure size 500x500 with 1 Axes>"
      ]
     },
     "metadata": {},
     "output_type": "display_data"
    },
    {
     "data": {
      "image/png": "[encoded data removed]",
      "text/plain": [
       "<Figure size 500x500 with 1 Axes>"
      ]
     },
     "metadata": {},
     "output_type": "display_data"
    },
    {
     "data": {
      "image/png": "[encoded data removed]",
      "text/plain": [
       "<Figure size 500x500 with 1 Axes>"
      ]
     },
     "metadata": {},
     "output_type": "display_data"
    },
    {
     "data": {
      "image/png": "[encoded data removed]",
      "text/plain": [
       "<Figure size 500x500 with 1 Axes>"
      ]
     },
     "metadata": {},
     "output_type": "display_data"
    },
    {
     "data": {
      "image/png": "[encoded data removed]",
      "text/plain": [
       "<Figure size 500x500 with 1 Axes>"
      ]
     },
     "metadata": {},
     "output_type": "display_data"
    },
    {
     "data": {
      "image/png": "[encoded data removed]",
      "text/plain": [
       "<Figure size 500x500 with 1 Axes>"
      ]
     },
     "metadata": {},
     "output_type": "display_data"
    },
    {
     "data": {
      "image/png": "[encoded data removed]",
      "text/plain": [
       "<Figure size 500x500 with 1 Axes>"
      ]
     },
     "metadata": {},
     "output_type": "display_data"
    }
   ],
   "source": [
    "import matplotlib.pyplot as plt\n",
    "\n",
    "# Visualizing predictions along with their ground truth and predicted labels\n",
    "for images, labels, preds in predictions[:10]:\n",
    "    # Convert tensor images to numpy for plotting\n",
    "    images = images.squeeze(1).cpu().numpy()\n",
    "    labels = labels.cpu().numpy()\n",
    "    preds = preds.cpu().numpy()\n",
    "\n",
    "    # Plot images with ground truth and prediction labels\n",
    "    for i in range(len(images)):\n",
    "        fig, ax = plt.subplots(1, 1, figsize=(5, 5))\n",
    "        ax.imshow(images[i], cmap='gray')\n",
    "        ax.set_title(f\"GT: {labels[i]} | Pred: {preds[i]}\")\n",
    "        ax.axis('off')\n",
    "        plt.show()"
   ]
  },
  {
   "cell_type": "code",
   "execution_count": 8,
   "metadata": {},
   "outputs": [],
   "source": [
    "# Save model \n",
    "script = model.to_torchscript()\n",
    "\n",
    "# save for use in production environment\n",
    "torch.jit.save(script, \"model.pt\")"
   ]
  }
 ],
 "metadata": {
  "kernelspec": {
   "display_name": ".venv",
   "language": "python",
   "name": "python3"
  },
  "language_info": {
   "codemirror_mode": {
    "name": "ipython",
    "version": 3
   },
   "file_extension": ".py",
   "mimetype": "text/x-python",
   "name": "python",
   "nbconvert_exporter": "python",
   "pygments_lexer": "ipython3",
   "version": "3.10.15"
  }
 },
 "nbformat": 4,
 "nbformat_minor": 2
}
